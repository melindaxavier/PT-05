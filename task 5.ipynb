{
  "nbformat": 4,
  "nbformat_minor": 0,
  "metadata": {
    "colab": {
      "private_outputs": true,
      "provenance": []
    },
    "kernelspec": {
      "name": "python3",
      "display_name": "Python 3"
    },
    "language_info": {
      "name": "python"
    }
  },
  "cells": [
    {
      "cell_type": "code",
      "execution_count": null,
      "metadata": {
        "id": "YVWvncjeYGMJ"
      },
      "outputs": [],
      "source": [
        "import pandas as pd\n",
        "import numpy as np\n",
        "import matplotlib.pyplot as plt\n",
        "import seaborn as sns\n",
        "# Generate synthetic accident data (replace with your actual dataset)\n",
        "np.random.seed(42)\n",
        "n_samples = 100\n",
        "hours = np.random.randint(0, 24, n_samples)\n",
        "Seasonal_conditions = np.random.choice(['Summer', 'winter', 'Spring'], n_samples)\n",
        "accident_counts = np.random.poisson(10, n_samples)\n",
        "# Create a DataFrame\n",
        "df = pd.DataFrame({\n",
        " 'Hour': hours,\n",
        " 'Seasonal_Conditions': Seasonal_conditions,\n",
        " 'Accident_Counts': accident_counts\n",
        "})\n",
        "# EDA: Hourly accident counts\n",
        "hourly_counts = df.groupby('Hour')['Accident_Counts'].mean()\n",
        "plt.figure(figsize=(8, 4))\n",
        "plt.plot(hourly_counts.index, hourly_counts.values, marker='o' , color='brown')\n",
        "plt.xlabel('Hour of the Day')\n",
        "plt.ylabel('Average Accident Counts')\n",
        "plt.title('Hourly Accident Counts')\n",
        "plt.grid(True)\n",
        "plt.show()\n",
        "# EDA: Bar plot for road conditions\n",
        "plt.figure(figsize=(6, 4))\n",
        "sns.countplot(data=df, x='Seasonal_Conditions')\n",
        "plt.xlabel('Seasonal Conditions')\n",
        "plt.ylabel('Accident Counts')\n",
        "plt.title('Accident Counts by Seasonal Conditions')\n",
        "plt.show()\n",
        "\n",
        "from sklearn.linear_model import LinearRegression\n",
        "X = pd.get_dummies(df['Seasonal_Conditions'], drop_first=True)\n",
        "y = df['Accident_Counts']\n",
        "model = LinearRegression()\n",
        "model.fit(X, y)\n",
        "print(\"Regression coefficients:\")\n",
        "for feature, coef in zip(X.columns, model.coef_):\n",
        "    print(f\"{feature}: {coef:.2f}\")"
      ]
    }
  ]
}